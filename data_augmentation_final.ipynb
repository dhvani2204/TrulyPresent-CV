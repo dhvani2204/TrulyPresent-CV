{
  "nbformat": 4,
  "nbformat_minor": 0,
  "metadata": {
    "colab": {
      "provenance": []
    },
    "kernelspec": {
      "name": "python3",
      "display_name": "Python 3"
    },
    "language_info": {
      "name": "python"
    }
  },
  "cells": [
    {
      "cell_type": "code",
      "source": [
        "from google.colab import drive"
      ],
      "metadata": {
        "id": "IYlluyFuOjll"
      },
      "execution_count": 40,
      "outputs": []
    },
    {
      "cell_type": "code",
      "source": [
        "import os\n",
        "import cv2\n",
        "import Augmentor"
      ],
      "metadata": {
        "id": "lkkz9MYcOnt7"
      },
      "execution_count": 41,
      "outputs": []
    },
    {
      "cell_type": "code",
      "source": [
        "drive.mount('/content/drive')"
      ],
      "metadata": {
        "colab": {
          "base_uri": "https://localhost:8080/"
        },
        "id": "lCSjBxGJOoUX",
        "outputId": "bb3bc569-593e-4428-9edf-ba2adb9008d1"
      },
      "execution_count": 42,
      "outputs": [
        {
          "output_type": "stream",
          "name": "stdout",
          "text": [
            "Drive already mounted at /content/drive; to attempt to forcibly remount, call drive.mount(\"/content/drive\", force_remount=True).\n"
          ]
        }
      ]
    },
    {
      "cell_type": "code",
      "source": [
        "data_dir = '/content/drive/MyDrive/class_pics'  # Specify your data directory\n",
        "target_images_per_student = 15  # Number of images you want per student\n",
        "\n",
        "# Iterate over each student's folder in the data directory\n",
        "for student in os.listdir(data_dir):\n",
        "    student_folder = os.path.join(data_dir, student)\n",
        "\n",
        "    existing_images = os.listdir(student_folder)\n",
        "    num_existing_images = len(existing_images)\n",
        "\n",
        "    # Check if more images are needed to meet the target\n",
        "    if num_existing_images < target_images_per_student:\n",
        "        # Calculate how many additional images are required\n",
        "        rem_images = target_images_per_student - num_existing_images\n",
        "\n",
        "        # Create an Augmentor pipeline\n",
        "        p = Augmentor.Pipeline(student_folder)  # Point pipeline to the student's folder\n",
        "\n",
        "\n",
        "        p.rotate(probability=0.2, max_left_rotation=15 ,max_right_rotation=15)  # Slight rotations within -5 to +5 degrees\n",
        "        p.random_distortion(probability=0.2, grid_width=4, grid_height=4, magnitude=8)  # Random distortion\n",
        "        p.zoom_random(probability=0.3, percentage_area=0.8)  # Random zoom\n",
        "        p.flip_left_right(probability=0.8)  # Horizontal flip\n",
        "        p.random_contrast(probability=0.4, min_factor=0.8, max_factor=1.2)  # Random contrast adjustment\n",
        "        p.random_brightness(probability=0.6, min_factor=0.8, max_factor=1.2)  # Random brightness adjustment\n",
        "        p.random_color(probability=0.7, min_factor=0.8, max_factor=1.2)\n",
        "\n",
        "        p.sample(rem_images)\n",
        "\n",
        "        # Rename the augmented images sequentially within the same folder\n",
        "        augmented_images = os.listdir(student_folder)\n",
        "        augmented_images = [img for img in augmented_images if img not in existing_images]\n",
        "\n",
        "        # Rename augmented images with a unique index\n",
        "        for idx, img_name in enumerate(augmented_images, start=num_existing_images + 1):\n",
        "            original_name, ext = os.path.splitext(img_name)\n",
        "            new_name = f\"{student}_{idx}{ext}\"\n",
        "            os.rename(os.path.join(student_folder, img_name), os.path.join(student_folder, new_name))\n"
      ],
      "metadata": {
        "id": "0up0zmMpMhjR",
        "colab": {
          "base_uri": "https://localhost:8080/"
        },
        "outputId": "8d49b176-6a6b-4a3f-9e8d-58fa4b94570b"
      },
      "execution_count": 45,
      "outputs": [
        {
          "output_type": "stream",
          "name": "stdout",
          "text": [
            "Initialised with 1 image(s) found.\n",
            "Output directory set to /content/drive/MyDrive/class_pics/aditya s/output."
          ]
        },
        {
          "output_type": "stream",
          "name": "stderr",
          "text": [
            "Processing <PIL.Image.Image image mode=RGB size=4032x3024 at 0x7A2FB6B04D30>: 100%|██████████| 13/13 [00:19<00:00,  1.51s/ Samples]\n"
          ]
        },
        {
          "output_type": "stream",
          "name": "stdout",
          "text": [
            "Initialised with 1 image(s) found.\n",
            "Output directory set to /content/drive/MyDrive/class_pics/amaan/output."
          ]
        },
        {
          "output_type": "stream",
          "name": "stderr",
          "text": [
            "Processing <PIL.Image.Image image mode=RGB size=2316x3088 at 0x7A2FB6B04580>: 100%|██████████| 14/14 [00:08<00:00,  1.63 Samples/s]\n"
          ]
        },
        {
          "output_type": "stream",
          "name": "stdout",
          "text": [
            "Initialised with 5 image(s) found.\n",
            "Output directory set to /content/drive/MyDrive/class_pics/amisha/output."
          ]
        },
        {
          "output_type": "stream",
          "name": "stderr",
          "text": [
            "Processing <PIL.Image.Image image mode=RGB size=4032x3024 at 0x7A2FB6B04040>: 100%|██████████| 10/10 [00:04<00:00,  2.27 Samples/s]\n"
          ]
        },
        {
          "output_type": "stream",
          "name": "stdout",
          "text": [
            "Initialised with 2 image(s) found.\n",
            "Output directory set to /content/drive/MyDrive/class_pics/aniket/output."
          ]
        },
        {
          "output_type": "stream",
          "name": "stderr",
          "text": [
            "Processing <PIL.Image.Image image mode=RGB size=4032x3024 at 0x7A2FB6B06DA0>: 100%|██████████| 13/13 [00:15<00:00,  1.21s/ Samples]\n"
          ]
        },
        {
          "output_type": "stream",
          "name": "stdout",
          "text": [
            "Initialised with 6 image(s) found.\n",
            "Output directory set to /content/drive/MyDrive/class_pics/ankit/output."
          ]
        },
        {
          "output_type": "stream",
          "name": "stderr",
          "text": [
            "Processing <PIL.Image.Image image mode=RGB size=828x1472 at 0x7A2FB6A31B70>: 100%|██████████| 9/9 [00:01<00:00,  6.80 Samples/s]\n"
          ]
        },
        {
          "output_type": "stream",
          "name": "stdout",
          "text": [
            "Initialised with 2 image(s) found.\n",
            "Output directory set to /content/drive/MyDrive/class_pics/anurag/output."
          ]
        },
        {
          "output_type": "stream",
          "name": "stderr",
          "text": [
            "Processing <PIL.Image.Image image mode=RGB size=168x266 at 0x7A2FB6A40190>: 100%|██████████| 13/13 [00:06<00:00,  1.87 Samples/s]\n"
          ]
        },
        {
          "output_type": "stream",
          "name": "stdout",
          "text": [
            "Initialised with 5 image(s) found.\n",
            "Output directory set to /content/drive/MyDrive/class_pics/dhvani/output."
          ]
        },
        {
          "output_type": "stream",
          "name": "stderr",
          "text": [
            "Processing <PIL.Image.Image image mode=RGB size=348x348 at 0x7A2FB6A324A0>: 100%|██████████| 10/10 [00:00<00:00, 14.63 Samples/s]\n"
          ]
        },
        {
          "output_type": "stream",
          "name": "stdout",
          "text": [
            "Initialised with 2 image(s) found.\n",
            "Output directory set to /content/drive/MyDrive/class_pics/godcares/output."
          ]
        },
        {
          "output_type": "stream",
          "name": "stderr",
          "text": [
            "Processing <PIL.Image.Image image mode=RGB size=910x890 at 0x7A2FB6B07070>: 100%|██████████| 13/13 [00:09<00:00,  1.34 Samples/s]\n"
          ]
        },
        {
          "output_type": "stream",
          "name": "stdout",
          "text": [
            "Initialised with 1 image(s) found.\n",
            "Output directory set to /content/drive/MyDrive/class_pics/harsh/output."
          ]
        },
        {
          "output_type": "stream",
          "name": "stderr",
          "text": [
            "Processing <PIL.Image.Image image mode=RGB size=4032x3024 at 0x7A2FB6A43580>: 100%|██████████| 14/14 [00:19<00:00,  1.42s/ Samples]\n"
          ]
        },
        {
          "output_type": "stream",
          "name": "stdout",
          "text": [
            "Initialised with 1 image(s) found.\n",
            "Output directory set to /content/drive/MyDrive/class_pics/jay/output."
          ]
        },
        {
          "output_type": "stream",
          "name": "stderr",
          "text": [
            "Processing <PIL.Image.Image image mode=RGB size=4032x3024 at 0x7A2FB6B08880>: 100%|██████████| 14/14 [00:19<00:00,  1.42s/ Samples]\n"
          ]
        },
        {
          "output_type": "stream",
          "name": "stdout",
          "text": [
            "Initialised with 2 image(s) found.\n",
            "Output directory set to /content/drive/MyDrive/class_pics/joshua/output."
          ]
        },
        {
          "output_type": "stream",
          "name": "stderr",
          "text": [
            "Processing <PIL.Image.Image image mode=RGB size=4032x3024 at 0x7A2FB698AB30>: 100%|██████████| 13/13 [00:13<00:00,  1.02s/ Samples]\n"
          ]
        },
        {
          "output_type": "stream",
          "name": "stdout",
          "text": [
            "Initialised with 1 image(s) found.\n",
            "Output directory set to /content/drive/MyDrive/class_pics/manan/output."
          ]
        },
        {
          "output_type": "stream",
          "name": "stderr",
          "text": [
            "Processing <PIL.Image.Image image mode=RGB size=4032x3024 at 0x7A2FB6A59D20>: 100%|██████████| 14/14 [00:19<00:00,  1.39s/ Samples]\n"
          ]
        },
        {
          "output_type": "stream",
          "name": "stdout",
          "text": [
            "Initialised with 4 image(s) found.\n",
            "Output directory set to /content/drive/MyDrive/class_pics/medhansh/output."
          ]
        },
        {
          "output_type": "stream",
          "name": "stderr",
          "text": [
            "Processing <PIL.Image.Image image mode=RGB size=4032x3024 at 0x7A2FB6A329B0>: 100%|██████████| 11/11 [00:04<00:00,  2.66 Samples/s]\n"
          ]
        },
        {
          "output_type": "stream",
          "name": "stdout",
          "text": [
            "Initialised with 2 image(s) found.\n",
            "Output directory set to /content/drive/MyDrive/class_pics/mohammad/output."
          ]
        },
        {
          "output_type": "stream",
          "name": "stderr",
          "text": [
            "Processing <PIL.Image.Image image mode=RGB size=4032x3024 at 0x7A2FB6A5BD00>: 100%|██████████| 13/13 [00:14<00:00,  1.11s/ Samples]\n"
          ]
        },
        {
          "output_type": "stream",
          "name": "stdout",
          "text": [
            "Initialised with 1 image(s) found.\n",
            "Output directory set to /content/drive/MyDrive/class_pics/naman/output."
          ]
        },
        {
          "output_type": "stream",
          "name": "stderr",
          "text": [
            "Processing <PIL.Image.Image image mode=RGB size=423x423 at 0x7A2FB6A6CBE0>: 100%|██████████| 14/14 [00:00<00:00, 34.88 Samples/s]\n"
          ]
        },
        {
          "output_type": "stream",
          "name": "stdout",
          "text": [
            "Initialised with 1 image(s) found.\n",
            "Output directory set to /content/drive/MyDrive/class_pics/om/output."
          ]
        },
        {
          "output_type": "stream",
          "name": "stderr",
          "text": [
            "Processing <PIL.Image.Image image mode=RGB size=4032x3024 at 0x7A2FB6A32E60>: 100%|██████████| 14/14 [00:16<00:00,  1.20s/ Samples]\n"
          ]
        },
        {
          "output_type": "stream",
          "name": "stdout",
          "text": [
            "Initialised with 1 image(s) found.\n",
            "Output directory set to /content/drive/MyDrive/class_pics/pranav/output."
          ]
        },
        {
          "output_type": "stream",
          "name": "stderr",
          "text": [
            "Processing <PIL.Image.Image image mode=RGB size=4032x3024 at 0x7A2FB6A5B5B0>: 100%|██████████| 14/14 [00:19<00:00,  1.41s/ Samples]\n"
          ]
        },
        {
          "output_type": "stream",
          "name": "stdout",
          "text": [
            "Initialised with 2 image(s) found.\n",
            "Output directory set to /content/drive/MyDrive/class_pics/raj/output."
          ]
        },
        {
          "output_type": "stream",
          "name": "stderr",
          "text": [
            "Processing <PIL.Image.Image image mode=RGB size=1041x1238 at 0x7A2FB6A6ED40>: 100%|██████████| 13/13 [00:10<00:00,  1.19 Samples/s]\n"
          ]
        },
        {
          "output_type": "stream",
          "name": "stdout",
          "text": [
            "Initialised with 2 image(s) found.\n",
            "Output directory set to /content/drive/MyDrive/class_pics/rishit/output."
          ]
        },
        {
          "output_type": "stream",
          "name": "stderr",
          "text": [
            "Processing <PIL.Image.Image image mode=RGB size=228x228 at 0x7A2FB4878820>: 100%|██████████| 13/13 [00:10<00:00,  1.25 Samples/s]\n"
          ]
        },
        {
          "output_type": "stream",
          "name": "stdout",
          "text": [
            "Initialised with 1 image(s) found.\n",
            "Output directory set to /content/drive/MyDrive/class_pics/rohan/output."
          ]
        },
        {
          "output_type": "stream",
          "name": "stderr",
          "text": [
            "Processing <PIL.Image.Image image mode=RGB size=4032x3024 at 0x7A2FB6A598A0>: 100%|██████████| 14/14 [00:20<00:00,  1.43s/ Samples]\n"
          ]
        },
        {
          "output_type": "stream",
          "name": "stdout",
          "text": [
            "Initialised with 1 image(s) found.\n",
            "Output directory set to /content/drive/MyDrive/class_pics/roshan/output."
          ]
        },
        {
          "output_type": "stream",
          "name": "stderr",
          "text": [
            "Processing <PIL.Image.Image image mode=RGB size=660x780 at 0x7A2FB6A5BC70>: 100%|██████████| 14/14 [00:00<00:00, 19.07 Samples/s]\n"
          ]
        },
        {
          "output_type": "stream",
          "name": "stdout",
          "text": [
            "Initialised with 2 image(s) found.\n",
            "Output directory set to /content/drive/MyDrive/class_pics/sahil n/output."
          ]
        },
        {
          "output_type": "stream",
          "name": "stderr",
          "text": [
            "Processing <PIL.Image.Image image mode=RGBA size=379x493 at 0x7A2FB4880C10>: 100%|██████████| 13/13 [00:12<00:00,  1.04 Samples/s]\n"
          ]
        },
        {
          "output_type": "stream",
          "name": "stdout",
          "text": [
            "Initialised with 3 image(s) found.\n",
            "Output directory set to /content/drive/MyDrive/class_pics/sahil s/output."
          ]
        },
        {
          "output_type": "stream",
          "name": "stderr",
          "text": [
            "Processing <PIL.Image.Image image mode=RGB size=4032x3024 at 0x7A2FB6A5A950>: 100%|██████████| 12/12 [00:11<00:00,  1.07 Samples/s]\n"
          ]
        },
        {
          "output_type": "stream",
          "name": "stdout",
          "text": [
            "Initialised with 6 image(s) found.\n",
            "Output directory set to /content/drive/MyDrive/class_pics/sanskar/output."
          ]
        },
        {
          "output_type": "stream",
          "name": "stderr",
          "text": [
            "Processing <PIL.Image.Image image mode=RGBA size=706x710 at 0x7A2FB6A59DE0>: 100%|██████████| 9/9 [00:01<00:00,  5.76 Samples/s]\n"
          ]
        },
        {
          "output_type": "stream",
          "name": "stdout",
          "text": [
            "Initialised with 2 image(s) found.\n",
            "Output directory set to /content/drive/MyDrive/class_pics/saumit/output."
          ]
        },
        {
          "output_type": "stream",
          "name": "stderr",
          "text": [
            "Processing <PIL.Image.Image image mode=RGBA size=496x484 at 0x7A2FB487AF20>: 100%|██████████| 13/13 [00:08<00:00,  1.53 Samples/s]\n"
          ]
        },
        {
          "output_type": "stream",
          "name": "stdout",
          "text": [
            "Initialised with 2 image(s) found.\n",
            "Output directory set to /content/drive/MyDrive/class_pics/shambhavi/output."
          ]
        },
        {
          "output_type": "stream",
          "name": "stderr",
          "text": [
            "Processing <PIL.Image.Image image mode=RGB size=4032x3024 at 0x7A2FB4883C40>: 100%|██████████| 13/13 [00:11<00:00,  1.18 Samples/s]\n"
          ]
        },
        {
          "output_type": "stream",
          "name": "stdout",
          "text": [
            "Initialised with 2 image(s) found.\n",
            "Output directory set to /content/drive/MyDrive/class_pics/shantanu p/output."
          ]
        },
        {
          "output_type": "stream",
          "name": "stderr",
          "text": [
            "Processing <PIL.Image.Image image mode=RGB size=4032x3024 at 0x7A2FB488C7F0>: 100%|██████████| 13/13 [00:16<00:00,  1.24s/ Samples]\n"
          ]
        },
        {
          "output_type": "stream",
          "name": "stdout",
          "text": [
            "Initialised with 2 image(s) found.\n",
            "Output directory set to /content/drive/MyDrive/class_pics/shantanu r/output."
          ]
        },
        {
          "output_type": "stream",
          "name": "stderr",
          "text": [
            "Processing <PIL.Image.Image image mode=RGB size=4032x3024 at 0x7A300C31AF50>: 100%|██████████| 13/13 [00:08<00:00,  1.49 Samples/s]\n"
          ]
        },
        {
          "output_type": "stream",
          "name": "stdout",
          "text": [
            "Initialised with 2 image(s) found.\n",
            "Output directory set to /content/drive/MyDrive/class_pics/shashank/output."
          ]
        },
        {
          "output_type": "stream",
          "name": "stderr",
          "text": [
            "Processing <PIL.Image.Image image mode=RGBA size=532x583 at 0x7A2FB48831C0>: 100%|██████████| 13/13 [00:13<00:00,  1.07s/ Samples]\n"
          ]
        },
        {
          "output_type": "stream",
          "name": "stdout",
          "text": [
            "Initialised with 2 image(s) found.\n",
            "Output directory set to /content/drive/MyDrive/class_pics/shivangi/output."
          ]
        },
        {
          "output_type": "stream",
          "name": "stderr",
          "text": [
            "Processing <PIL.Image.Image image mode=RGB size=400x471 at 0x7A2FB488F220>: 100%|██████████| 12/12 [00:03<00:00,  3.27 Samples/s]\n"
          ]
        },
        {
          "output_type": "stream",
          "name": "stdout",
          "text": [
            "Initialised with 2 image(s) found.\n",
            "Output directory set to /content/drive/MyDrive/class_pics/shivansh/output."
          ]
        },
        {
          "output_type": "stream",
          "name": "stderr",
          "text": [
            "Processing <PIL.Image.Image image mode=RGBA size=164x202 at 0x7A2FB488FDF0>: 100%|██████████| 13/13 [00:10<00:00,  1.25 Samples/s]\n"
          ]
        },
        {
          "output_type": "stream",
          "name": "stdout",
          "text": [
            "Initialised with 2 image(s) found.\n",
            "Output directory set to /content/drive/MyDrive/class_pics/shreyas/output."
          ]
        },
        {
          "output_type": "stream",
          "name": "stderr",
          "text": [
            "Processing <PIL.Image.Image image mode=RGB size=648x1152 at 0x7A2FB48835B0>: 100%|██████████| 13/13 [00:07<00:00,  1.72 Samples/s]\n"
          ]
        },
        {
          "output_type": "stream",
          "name": "stdout",
          "text": [
            "Initialised with 2 image(s) found.\n",
            "Output directory set to /content/drive/MyDrive/class_pics/shubh/output."
          ]
        },
        {
          "output_type": "stream",
          "name": "stderr",
          "text": [
            "Processing <PIL.Image.Image image mode=RGB size=1086x1207 at 0x7A2FB488E890>: 100%|██████████| 13/13 [00:02<00:00,  6.48 Samples/s]\n"
          ]
        },
        {
          "output_type": "stream",
          "name": "stdout",
          "text": [
            "Initialised with 1 image(s) found.\n",
            "Output directory set to /content/drive/MyDrive/class_pics/shubham/output."
          ]
        },
        {
          "output_type": "stream",
          "name": "stderr",
          "text": [
            "Processing <PIL.Image.Image image mode=RGB size=4032x3024 at 0x7A300C31BB80>: 100%|██████████| 14/14 [00:13<00:00,  1.05 Samples/s]\n"
          ]
        },
        {
          "output_type": "stream",
          "name": "stdout",
          "text": [
            "Initialised with 9 image(s) found.\n",
            "Output directory set to /content/drive/MyDrive/class_pics/smriti/output."
          ]
        },
        {
          "output_type": "stream",
          "name": "stderr",
          "text": [
            "Processing <PIL.Image.Image image mode=RGB size=1080x1244 at 0x7A2FB6A6FDF0>: 100%|██████████| 6/6 [00:00<00:00, 13.38 Samples/s]\n"
          ]
        },
        {
          "output_type": "stream",
          "name": "stdout",
          "text": [
            "Initialised with 2 image(s) found.\n",
            "Output directory set to /content/drive/MyDrive/class_pics/snehin/output."
          ]
        },
        {
          "output_type": "stream",
          "name": "stderr",
          "text": [
            "Processing <PIL.Image.Image image mode=RGB size=4032x3024 at 0x7A2FB6A32BC0>: 100%|██████████| 13/13 [00:09<00:00,  1.37 Samples/s]\n"
          ]
        },
        {
          "output_type": "stream",
          "name": "stdout",
          "text": [
            "Initialised with 1 image(s) found.\n",
            "Output directory set to /content/drive/MyDrive/class_pics/soham/output."
          ]
        },
        {
          "output_type": "stream",
          "name": "stderr",
          "text": [
            "Processing <PIL.Image.Image image mode=RGB size=4032x3024 at 0x7A2FB6B06F20>: 100%|██████████| 14/14 [00:13<00:00,  1.00 Samples/s]\n"
          ]
        },
        {
          "output_type": "stream",
          "name": "stdout",
          "text": [
            "Initialised with 3 image(s) found.\n",
            "Output directory set to /content/drive/MyDrive/class_pics/spoorthi/output."
          ]
        },
        {
          "output_type": "stream",
          "name": "stderr",
          "text": [
            "Processing <PIL.Image.Image image mode=RGBA size=553x529 at 0x7A2FB48BF820>: 100%|██████████| 12/12 [00:15<00:00,  1.30s/ Samples]\n"
          ]
        },
        {
          "output_type": "stream",
          "name": "stdout",
          "text": [
            "Initialised with 2 image(s) found.\n",
            "Output directory set to /content/drive/MyDrive/class_pics/sumeet/output."
          ]
        },
        {
          "output_type": "stream",
          "name": "stderr",
          "text": [
            "Processing <PIL.Image.Image image mode=RGB size=4032x3024 at 0x7A2FB488F220>: 100%|██████████| 13/13 [00:05<00:00,  2.56 Samples/s]\n"
          ]
        },
        {
          "output_type": "stream",
          "name": "stdout",
          "text": [
            "Initialised with 1 image(s) found.\n",
            "Output directory set to /content/drive/MyDrive/class_pics/suyash/output."
          ]
        },
        {
          "output_type": "stream",
          "name": "stderr",
          "text": [
            "Processing <PIL.Image.Image image mode=RGB size=4032x3024 at 0x7A2FB48BF490>: 100%|██████████| 14/14 [00:21<00:00,  1.51s/ Samples]\n"
          ]
        },
        {
          "output_type": "stream",
          "name": "stdout",
          "text": [
            "Initialised with 1 image(s) found.\n",
            "Output directory set to /content/drive/MyDrive/class_pics/tanush/output."
          ]
        },
        {
          "output_type": "stream",
          "name": "stderr",
          "text": [
            "Processing <PIL.Image.Image image mode=RGB size=4032x3024 at 0x7A2FB4882530>: 100%|██████████| 14/14 [00:18<00:00,  1.32s/ Samples]\n"
          ]
        },
        {
          "output_type": "stream",
          "name": "stdout",
          "text": [
            "Initialised with 1 image(s) found.\n",
            "Output directory set to /content/drive/MyDrive/class_pics/tejas/output."
          ]
        },
        {
          "output_type": "stream",
          "name": "stderr",
          "text": [
            "Processing <PIL.Image.Image image mode=RGB size=4032x3024 at 0x7A2FB6B07070>: 100%|██████████| 14/14 [00:24<00:00,  1.78s/ Samples]\n"
          ]
        },
        {
          "output_type": "stream",
          "name": "stdout",
          "text": [
            "Initialised with 2 image(s) found.\n",
            "Output directory set to /content/drive/MyDrive/class_pics/utsav/output."
          ]
        },
        {
          "output_type": "stream",
          "name": "stderr",
          "text": [
            "Processing <PIL.Image.Image image mode=RGB size=4032x3024 at 0x7A2FB48A9B70>: 100%|██████████| 13/13 [00:17<00:00,  1.34s/ Samples]\n"
          ]
        },
        {
          "output_type": "stream",
          "name": "stdout",
          "text": [
            "Initialised with 5 image(s) found.\n",
            "Output directory set to /content/drive/MyDrive/class_pics/vaani/output."
          ]
        },
        {
          "output_type": "stream",
          "name": "stderr",
          "text": [
            "Processing <PIL.Image.Image image mode=RGB size=4032x3024 at 0x7A2FB488FDF0>: 100%|██████████| 10/10 [00:05<00:00,  1.96 Samples/s]\n"
          ]
        },
        {
          "output_type": "stream",
          "name": "stdout",
          "text": [
            "Initialised with 2 image(s) found.\n",
            "Output directory set to /content/drive/MyDrive/class_pics/vabhav/output."
          ]
        },
        {
          "output_type": "stream",
          "name": "stderr",
          "text": [
            "Processing <PIL.Image.Image image mode=RGBA size=619x640 at 0x7A2FB48AB4C0>: 100%|██████████| 13/13 [00:02<00:00,  5.01 Samples/s]\n"
          ]
        },
        {
          "output_type": "stream",
          "name": "stdout",
          "text": [
            "Initialised with 5 image(s) found.\n",
            "Output directory set to /content/drive/MyDrive/class_pics/vaishnavi/output."
          ]
        },
        {
          "output_type": "stream",
          "name": "stderr",
          "text": [
            "Processing <PIL.Image.Image image mode=RGBA size=475x497 at 0x7A2FB48C2260>: 100%|██████████| 10/10 [00:11<00:00,  1.13s/ Samples]\n"
          ]
        },
        {
          "output_type": "stream",
          "name": "stdout",
          "text": [
            "Initialised with 2 image(s) found.\n",
            "Output directory set to /content/drive/MyDrive/class_pics/ved/output."
          ]
        },
        {
          "output_type": "stream",
          "name": "stderr",
          "text": [
            "Processing <PIL.Image.Image image mode=RGBA size=559x546 at 0x7A2FB48C2DA0>: 100%|██████████| 13/13 [00:09<00:00,  1.33 Samples/s]\n"
          ]
        },
        {
          "output_type": "stream",
          "name": "stdout",
          "text": [
            "Initialised with 2 image(s) found.\n",
            "Output directory set to /content/drive/MyDrive/class_pics/vihan/output."
          ]
        },
        {
          "output_type": "stream",
          "name": "stderr",
          "text": [
            "Processing <PIL.Image.Image image mode=RGB size=1049x1138 at 0x7A2FB48830A0>: 100%|██████████| 13/13 [00:17<00:00,  1.38s/ Samples]\n"
          ]
        },
        {
          "output_type": "stream",
          "name": "stdout",
          "text": [
            "Initialised with 3 image(s) found.\n",
            "Output directory set to /content/drive/MyDrive/class_pics/yashasvi k/output."
          ]
        },
        {
          "output_type": "stream",
          "name": "stderr",
          "text": [
            "Processing <PIL.Image.Image image mode=RGBA size=702x607 at 0x7A2FB4899270>: 100%|██████████| 12/12 [00:05<00:00,  2.06 Samples/s]\n"
          ]
        },
        {
          "output_type": "stream",
          "name": "stdout",
          "text": [
            "Initialised with 3 image(s) found.\n",
            "Output directory set to /content/drive/MyDrive/class_pics/yoginii/output."
          ]
        },
        {
          "output_type": "stream",
          "name": "stderr",
          "text": [
            "Processing <PIL.Image.Image image mode=RGB size=664x846 at 0x7A2FB48AAA40>: 100%|██████████| 12/12 [00:00<00:00, 20.61 Samples/s]\n"
          ]
        }
      ]
    },
    {
      "cell_type": "code",
      "source": [],
      "metadata": {
        "id": "pC0DCWYMRWfv"
      },
      "execution_count": null,
      "outputs": []
    }
  ]
}